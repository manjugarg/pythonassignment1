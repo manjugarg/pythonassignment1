{
 "cells": [
  {
   "cell_type": "code",
   "execution_count": null,
   "id": "8db23ca9-967f-4ed5-9b01-2ed320f3d9ee",
   "metadata": {},
   "outputs": [],
   "source": [
    "#Q1\n",
    "s = 'sudh'\n",
    "l = [2,3,1,'hks',23.4,True]\n",
    "a = 23.4\n",
    "mytuple = (1,3,5,'me')"
   ]
  },
  {
   "cell_type": "code",
   "execution_count": 4,
   "id": "18838035-f136-4e46-ad78-e13a2f9ba1f1",
   "metadata": {},
   "outputs": [],
   "source": [
    "#Q2\n",
    "var1 = ' '"
   ]
  },
  {
   "cell_type": "code",
   "execution_count": 5,
   "id": "186378d5-5726-4141-8878-beb1fab0e7b5",
   "metadata": {},
   "outputs": [
    {
     "data": {
      "text/plain": [
       "str"
      ]
     },
     "execution_count": 5,
     "metadata": {},
     "output_type": "execute_result"
    }
   ],
   "source": [
    "type(var1)"
   ]
  },
  {
   "cell_type": "code",
   "execution_count": 6,
   "id": "fca390ba-75d1-49eb-8e6e-7fc79e325f6d",
   "metadata": {},
   "outputs": [],
   "source": [
    "var2 = '[ DS , ML , Python]'"
   ]
  },
  {
   "cell_type": "code",
   "execution_count": 7,
   "id": "efd02230-cfc6-4c5e-b8f5-dd041c56b422",
   "metadata": {},
   "outputs": [
    {
     "data": {
      "text/plain": [
       "str"
      ]
     },
     "execution_count": 7,
     "metadata": {},
     "output_type": "execute_result"
    }
   ],
   "source": [
    "type(var2)"
   ]
  },
  {
   "cell_type": "code",
   "execution_count": 8,
   "id": "817592ab-6a7c-4e2e-ad20-4097296fb87d",
   "metadata": {},
   "outputs": [],
   "source": [
    "var3 = [ 'DS' , 'ML' , 'Python' ]"
   ]
  },
  {
   "cell_type": "code",
   "execution_count": 9,
   "id": "e55b259f-327c-48e3-bd6a-a0dc2afb1430",
   "metadata": {},
   "outputs": [
    {
     "data": {
      "text/plain": [
       "list"
      ]
     },
     "execution_count": 9,
     "metadata": {},
     "output_type": "execute_result"
    }
   ],
   "source": [
    "type(var3)"
   ]
  },
  {
   "cell_type": "code",
   "execution_count": 10,
   "id": "8fc5c3da-ae1e-4397-9ecd-062094d9a29b",
   "metadata": {},
   "outputs": [],
   "source": [
    "var4=1"
   ]
  },
  {
   "cell_type": "code",
   "execution_count": 11,
   "id": "b1285d3b-b6de-441c-adf1-175b94bc7d9f",
   "metadata": {},
   "outputs": [
    {
     "data": {
      "text/plain": [
       "int"
      ]
     },
     "execution_count": 11,
     "metadata": {},
     "output_type": "execute_result"
    }
   ],
   "source": [
    "type(var4)"
   ]
  },
  {
   "cell_type": "code",
   "execution_count": 12,
   "id": "a3460a2d-3fa1-4551-9b08-17ad56fb547f",
   "metadata": {},
   "outputs": [
    {
     "data": {
      "text/plain": [
       "1.6666666666666667"
      ]
     },
     "execution_count": 12,
     "metadata": {},
     "output_type": "execute_result"
    }
   ],
   "source": [
    "#Q3\n",
    "5/3 #it divides"
   ]
  },
  {
   "cell_type": "code",
   "execution_count": 13,
   "id": "28345295-7c36-4923-8dae-88030a2746ab",
   "metadata": {},
   "outputs": [
    {
     "data": {
      "text/plain": [
       "1"
      ]
     },
     "execution_count": 13,
     "metadata": {},
     "output_type": "execute_result"
    }
   ],
   "source": [
    "5%4 #gives remainder"
   ]
  },
  {
   "cell_type": "code",
   "execution_count": 14,
   "id": "aa58d9f8-6614-4cb3-8ae5-19dec84d2c7b",
   "metadata": {},
   "outputs": [
    {
     "data": {
      "text/plain": [
       "2"
      ]
     },
     "execution_count": 14,
     "metadata": {},
     "output_type": "execute_result"
    }
   ],
   "source": [
    "15//6 #gives gives quotient"
   ]
  },
  {
   "cell_type": "code",
   "execution_count": 15,
   "id": "78fe2977-7f0d-45a8-a709-22600bf14622",
   "metadata": {},
   "outputs": [
    {
     "data": {
      "text/plain": [
       "25"
      ]
     },
     "execution_count": 15,
     "metadata": {},
     "output_type": "execute_result"
    }
   ],
   "source": [
    "5**2 #exponent"
   ]
  },
  {
   "cell_type": "code",
   "execution_count": 16,
   "id": "cff27547-30d9-4ae7-8ac2-5d0b5f554136",
   "metadata": {},
   "outputs": [],
   "source": [
    "#Q4"
   ]
  },
  {
   "cell_type": "code",
   "execution_count": 17,
   "id": "8fc96b7b-c406-4487-a059-c2729be6cf48",
   "metadata": {},
   "outputs": [
    {
     "name": "stdout",
     "output_type": "stream",
     "text": [
      "1\n",
      "<class 'int'>\n",
      "3\n",
      "<class 'int'>\n",
      "6\n",
      "<class 'int'>\n",
      "2\n",
      "<class 'int'>\n",
      "manju\n",
      "<class 'str'>\n",
      "True\n",
      "<class 'bool'>\n",
      "67.8\n",
      "<class 'float'>\n",
      "4\n",
      "<class 'int'>\n",
      "False\n",
      "<class 'bool'>\n"
     ]
    }
   ],
   "source": [
    "l = [1,3,6,2,'manju',True,67.8,4,False]\n",
    "for i in l :\n",
    "    print(i)\n",
    "    print(type(i))"
   ]
  },
  {
   "cell_type": "code",
   "execution_count": 18,
   "id": "df977fa1-24f8-4db3-b1bf-ff80997cf079",
   "metadata": {},
   "outputs": [],
   "source": [
    "#Q5 "
   ]
  },
  {
   "cell_type": "code",
   "execution_count": 26,
   "id": "f9b1a8a2-2969-41b1-9e55-6fb0123239e7",
   "metadata": {},
   "outputs": [
    {
     "name": "stdin",
     "output_type": "stream",
     "text": [
      " 10\n",
      " 5\n"
     ]
    },
    {
     "name": "stdout",
     "output_type": "stream",
     "text": [
      "A is divisible by B\n",
      "A//B is  2\n"
     ]
    }
   ],
   "source": [
    "A = int(input())\n",
    "B = int(input())\n",
    "\n",
    "while A%B==0:\n",
    "    print(\"A is divisible by B\")\n",
    "    \n",
    "    if A%B==0 :\n",
    "        print(\"A//B is \",A//B)\n",
    "        \n",
    "    break\n",
    "    \n",
    "    \n",
    "    "
   ]
  },
  {
   "cell_type": "code",
   "execution_count": 27,
   "id": "0aa9936c-56be-4b63-a8f4-0508c4456da3",
   "metadata": {},
   "outputs": [],
   "source": [
    "#Q6"
   ]
  },
  {
   "cell_type": "code",
   "execution_count": 28,
   "id": "4850a40e-0484-4db5-a4f3-06e3a731f50f",
   "metadata": {},
   "outputs": [],
   "source": [
    "l = [1,2,3,4,5,6,7,8,9,10,11,12,13,14,15,16,17,18,19,20,21,22,23,24,25]\n",
    "\n",
    "l1 =[]\n",
    "l2 = []\n",
    "\n",
    "for i in l:\n",
    "    if i%3==0:\n",
    "        l1.append(i)\n",
    "        \n",
    "    else:\n",
    "        l2.append(i)\n",
    "    "
   ]
  },
  {
   "cell_type": "code",
   "execution_count": 29,
   "id": "2a115564-a698-4770-a617-51be1a7e7dda",
   "metadata": {},
   "outputs": [
    {
     "data": {
      "text/plain": [
       "[3, 6, 9, 12, 15, 18, 21, 24]"
      ]
     },
     "execution_count": 29,
     "metadata": {},
     "output_type": "execute_result"
    }
   ],
   "source": [
    "l1"
   ]
  },
  {
   "cell_type": "code",
   "execution_count": 30,
   "id": "1df646e6-860c-4150-a27b-88df949376b7",
   "metadata": {},
   "outputs": [],
   "source": [
    "#Q7"
   ]
  },
  {
   "cell_type": "code",
   "execution_count": 31,
   "id": "06c93d92-2fd3-4033-95e3-09fef5c520dc",
   "metadata": {},
   "outputs": [],
   "source": [
    "l = [1,2,4,'myh']"
   ]
  },
  {
   "cell_type": "code",
   "execution_count": 32,
   "id": "ac7379ac-3cd8-462c-95df-739c45828000",
   "metadata": {},
   "outputs": [],
   "source": [
    "l[2] = 200"
   ]
  },
  {
   "cell_type": "code",
   "execution_count": 33,
   "id": "b47bb20c-fb5e-4871-82d2-6e9ee202fa1b",
   "metadata": {},
   "outputs": [
    {
     "data": {
      "text/plain": [
       "[1, 2, 200, 'myh']"
      ]
     },
     "execution_count": 33,
     "metadata": {},
     "output_type": "execute_result"
    }
   ],
   "source": [
    "l"
   ]
  },
  {
   "cell_type": "code",
   "execution_count": 34,
   "id": "39a3c1b1-0bba-4621-b0df-004c8acc1acc",
   "metadata": {},
   "outputs": [],
   "source": [
    "s = 'manju'"
   ]
  },
  {
   "cell_type": "code",
   "execution_count": 35,
   "id": "88ccf75e-bf60-4adb-be8a-2fdbd4764931",
   "metadata": {},
   "outputs": [
    {
     "data": {
      "text/plain": [
       "'n'"
      ]
     },
     "execution_count": 35,
     "metadata": {},
     "output_type": "execute_result"
    }
   ],
   "source": [
    "s[2]"
   ]
  },
  {
   "cell_type": "code",
   "execution_count": 36,
   "id": "6f1bdae2-7f55-48eb-a50a-303056faa246",
   "metadata": {},
   "outputs": [
    {
     "ename": "NameError",
     "evalue": "name 'e' is not defined",
     "output_type": "error",
     "traceback": [
      "\u001b[0;31m---------------------------------------------------------------------------\u001b[0m",
      "\u001b[0;31mNameError\u001b[0m                                 Traceback (most recent call last)",
      "Cell \u001b[0;32mIn[36], line 1\u001b[0m\n\u001b[0;32m----> 1\u001b[0m s[\u001b[38;5;241m2\u001b[39m] \u001b[38;5;241m=\u001b[39m \u001b[43me\u001b[49m\n",
      "\u001b[0;31mNameError\u001b[0m: name 'e' is not defined"
     ]
    }
   ],
   "source": [
    "s[2] = e"
   ]
  },
  {
   "cell_type": "code",
   "execution_count": null,
   "id": "fe1ecc81-772c-4416-a838-758e55f6614f",
   "metadata": {},
   "outputs": [],
   "source": []
  }
 ],
 "metadata": {
  "kernelspec": {
   "display_name": "Python 3 (ipykernel)",
   "language": "python",
   "name": "python3"
  },
  "language_info": {
   "codemirror_mode": {
    "name": "ipython",
    "version": 3
   },
   "file_extension": ".py",
   "mimetype": "text/x-python",
   "name": "python",
   "nbconvert_exporter": "python",
   "pygments_lexer": "ipython3",
   "version": "3.10.8"
  }
 },
 "nbformat": 4,
 "nbformat_minor": 5
}
